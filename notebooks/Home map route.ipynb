{
 "cells": [
  {
   "cell_type": "code",
   "execution_count": 1,
   "id": "8e5a1f0e",
   "metadata": {},
   "outputs": [],
   "source": [
    "import requests\n",
    "import psycopg2\n",
    "import polyline\n",
    "import gpxpy\n",
    "import json\n",
    "\n",
    "import pandas as pd\n",
    "import matplotlib.pyplot as plt\n",
    "import contextily as ctx"
   ]
  },
  {
   "cell_type": "code",
   "execution_count": 22,
   "id": "4eceb786",
   "metadata": {},
   "outputs": [],
   "source": [
    "def get_route(points):\n",
    "    params = {\n",
    "        'geometries': 'polyline6',\n",
    "        'annotations': 'true'\n",
    "    }\n",
    "    response = requests.get(f\"http://127.0.0.1:6000/route/v1/foot/{points}\", params=params)\n",
    "    print(json.dumps(response.json(), indent=4))\n",
    "    response.raise_for_status()\n",
    "    route = response.json()\n",
    "    return route['routes'][0]['geometry']"
   ]
  },
  {
   "cell_type": "code",
   "execution_count": 23,
   "id": "e2d46f83",
   "metadata": {},
   "outputs": [],
   "source": [
    "def plot_gpx(gpx_df, filename):\n",
    "    plt.figure(figsize=(15, 8))\n",
    "    plt.plot(gpx_df['longitude'], gpx_df['latitude'], color='red', label='Route')\n",
    "    ctx.add_basemap(plt.gca(), crs='EPSG:4326', source=ctx.providers.OpenStreetMap.Mapnik)\n",
    "    plt.legend()\n",
    "    plt.xticks([], [])\n",
    "    plt.yticks([], [])\n",
    "    plt.tick_params(axis='both', which='both', bottom=False, top=False, left=False, right=False)\n",
    "    plt.savefig(f\"{OUTPUT_DIR}/{filename}.png\")"
   ]
  },
  {
   "cell_type": "code",
   "execution_count": 24,
   "id": "c8bf0977",
   "metadata": {},
   "outputs": [
    {
     "name": "stdout",
     "output_type": "stream",
     "text": [
      "{\n",
      "    \"code\": \"Ok\",\n",
      "    \"routes\": [\n",
      "        {\n",
      "            \"geometry\": \"ym|nAgvideEIdGpAjAdVL\",\n",
      "            \"legs\": [\n",
      "                {\n",
      "                    \"annotation\": {\n",
      "                        \"metadata\": {\n",
      "                            \"datasource_names\": [\n",
      "                                \"lua profile\"\n",
      "                            ]\n",
      "                        },\n",
      "                        \"nodes\": [\n",
      "                            4519725811,\n",
      "                            4519725808,\n",
      "                            4519725810,\n",
      "                            8190124489,\n",
      "                            8190099326\n",
      "                        ],\n",
      "                        \"datasources\": [\n",
      "                            0,\n",
      "                            0,\n",
      "                            0,\n",
      "                            0\n",
      "                        ],\n",
      "                        \"speed\": [\n",
      "                            1.4,\n",
      "                            1.4,\n",
      "                            1.4,\n",
      "                            1.4\n",
      "                        ],\n",
      "                        \"weight\": [\n",
      "                            1.4,\n",
      "                            9.1,\n",
      "                            4.5,\n",
      "                            29.6\n",
      "                        ],\n",
      "                        \"duration\": [\n",
      "                            1.4,\n",
      "                            9.1,\n",
      "                            4.5,\n",
      "                            29.6\n",
      "                        ],\n",
      "                        \"distance\": [\n",
      "                            2.004639,\n",
      "                            12.573164,\n",
      "                            6.216989,\n",
      "                            41.272298\n",
      "                        ]\n",
      "                    },\n",
      "                    \"steps\": [],\n",
      "                    \"distance\": 62.1,\n",
      "                    \"duration\": 44.6,\n",
      "                    \"summary\": \"\",\n",
      "                    \"weight\": 44.6\n",
      "                }\n",
      "            ],\n",
      "            \"distance\": 62.1,\n",
      "            \"duration\": 44.6,\n",
      "            \"weight_name\": \"duration\",\n",
      "            \"weight\": 44.6\n",
      "        }\n",
      "    ],\n",
      "    \"waypoints\": [\n",
      "        {\n",
      "            \"hint\": \"FgAAgCsAAIAOAAAAgQAAAAAAAAA-AAAADGcAQHOFjkEAAAAABFMIQQ4AAACBAAAAAAAAAD4AAAABAACAdFUxBu36EwB0VTEG9_oTAAAAvwVzYgLd\",\n",
      "            \"distance\": 1.105678,\n",
      "            \"name\": \"\",\n",
      "            \"location\": [\n",
      "                103.896436,\n",
      "                1.309421\n",
      "            ]\n",
      "        },\n",
      "        {\n",
      "            \"hint\": \"GgAAgFcAAIAoAQAARAAAAC0AAAB6BAAAvRwkQlalFEGBY8ZAgEYfQygBAABEAAAALQAAAHoEAAABAACAxFQxBlb5EwC9VDEGVvkTAAEAXwtzYgLd\",\n",
      "            \"distance\": 0.779038,\n",
      "            \"name\": \"\",\n",
      "            \"location\": [\n",
      "                103.89626,\n",
      "                1.309014\n",
      "            ]\n",
      "        }\n",
      "    ]\n",
      "}\n"
     ]
    }
   ],
   "source": [
    "points=\"103.89643576993568,1.3094311310502997;103.89625256964261,1.3090135434260468\"\n",
    "geometry = get_route(points)"
   ]
  },
  {
   "cell_type": "code",
   "execution_count": null,
   "id": "32e7cc54",
   "metadata": {},
   "outputs": [],
   "source": []
  },
  {
   "cell_type": "code",
   "execution_count": null,
   "id": "05d8ba01",
   "metadata": {},
   "outputs": [],
   "source": []
  }
 ],
 "metadata": {
  "kernelspec": {
   "display_name": "Python 3 (ipykernel)",
   "language": "python",
   "name": "python3"
  },
  "language_info": {
   "codemirror_mode": {
    "name": "ipython",
    "version": 3
   },
   "file_extension": ".py",
   "mimetype": "text/x-python",
   "name": "python",
   "nbconvert_exporter": "python",
   "pygments_lexer": "ipython3",
   "version": "3.11.9"
  }
 },
 "nbformat": 4,
 "nbformat_minor": 5
}
