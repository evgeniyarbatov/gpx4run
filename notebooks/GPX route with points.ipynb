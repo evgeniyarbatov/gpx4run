{
 "cells": [
  {
   "cell_type": "code",
   "execution_count": 3,
   "id": "bb2bd34d",
   "metadata": {},
   "outputs": [],
   "source": [
    "import psycopg2\n",
    "import pandas as pd\n",
    "import matplotlib.pyplot as plt"
   ]
  },
  {
   "cell_type": "code",
   "execution_count": 7,
   "id": "18cb10b7",
   "metadata": {},
   "outputs": [],
   "source": [
    "conn = psycopg2.connect(\n",
    "    host=\"localhost\",\n",
    "    database=\"gpx\",\n",
    "    user=\"root\",\n",
    "    password=\"root\"\n",
    ")"
   ]
  },
  {
   "cell_type": "code",
   "execution_count": 8,
   "id": "4b629bef",
   "metadata": {},
   "outputs": [
    {
     "data": {
      "text/html": [
       "<div>\n",
       "<style scoped>\n",
       "    .dataframe tbody tr th:only-of-type {\n",
       "        vertical-align: middle;\n",
       "    }\n",
       "\n",
       "    .dataframe tbody tr th {\n",
       "        vertical-align: top;\n",
       "    }\n",
       "\n",
       "    .dataframe thead th {\n",
       "        text-align: right;\n",
       "    }\n",
       "</style>\n",
       "<table border=\"1\" class=\"dataframe\">\n",
       "  <thead>\n",
       "    <tr style=\"text-align: right;\">\n",
       "      <th></th>\n",
       "      <th>destination_name</th>\n",
       "      <th>point_name</th>\n",
       "      <th>distance</th>\n",
       "    </tr>\n",
       "  </thead>\n",
       "  <tbody>\n",
       "    <tr>\n",
       "      <th>0</th>\n",
       "      <td>Merlion</td>\n",
       "      <td>Tanjong Rhu</td>\n",
       "      <td>284.681816</td>\n",
       "    </tr>\n",
       "    <tr>\n",
       "      <th>1</th>\n",
       "      <td>Merlion</td>\n",
       "      <td>Tanjong Rhu View</td>\n",
       "      <td>329.232245</td>\n",
       "    </tr>\n",
       "    <tr>\n",
       "      <th>2</th>\n",
       "      <td>Merlion</td>\n",
       "      <td>Tanjong Rhu Bridge</td>\n",
       "      <td>195.690482</td>\n",
       "    </tr>\n",
       "  </tbody>\n",
       "</table>\n",
       "</div>"
      ],
      "text/plain": [
       "  destination_name          point_name    distance\n",
       "0          Merlion         Tanjong Rhu  284.681816\n",
       "1          Merlion    Tanjong Rhu View  329.232245\n",
       "2          Merlion  Tanjong Rhu Bridge  195.690482"
      ]
     },
     "execution_count": 8,
     "metadata": {},
     "output_type": "execute_result"
    }
   ],
   "source": [
    "query = \"\"\"\n",
    "WITH lines AS (\n",
    "    SELECT\n",
    "        b.name,\n",
    "        ST_MakeLine(\n",
    "            ST_SetSRID(ST_MakePoint(a.longitude, a.latitude), 4326),\n",
    "            ST_SetSRID(ST_MakePoint(b.longitude, b.latitude), 4326)\n",
    "        ) AS geom\n",
    "    FROM start a\n",
    "    CROSS JOIN destinations b\n",
    "),\n",
    "points AS (\n",
    "    SELECT\n",
    "        id,\n",
    "        name,\n",
    "        ST_SetSRID(ST_MakePoint(longitude, latitude), 4326) AS geom\n",
    "    FROM points_of_interest\n",
    ")\n",
    "\n",
    "SELECT\n",
    "    a.name AS destination,\n",
    "    b.name AS point_name,\n",
    "    ST_Distance(\n",
    "        ST_Transform(b.geom, ST_SRID(a.geom))::geography,\n",
    "        a.geom::geography\n",
    "    ) AS distance_to_line_in_meters\n",
    "FROM lines a\n",
    "CROSS JOIN points b;\n",
    "\"\"\"\n",
    "\n",
    "with conn.cursor() as cur:\n",
    "    cur.execute(query)\n",
    "    rows = cur.fetchall()\n",
    "\n",
    "df = pd.DataFrame(rows, columns=[\"destination_name\", \"point_name\", \"distance\"])\n",
    "\n",
    "df.head(3)"
   ]
  },
  {
   "cell_type": "code",
   "execution_count": null,
   "id": "954012d8",
   "metadata": {},
   "outputs": [],
   "source": []
  }
 ],
 "metadata": {
  "kernelspec": {
   "display_name": "Python 3 (ipykernel)",
   "language": "python",
   "name": "python3"
  },
  "language_info": {
   "codemirror_mode": {
    "name": "ipython",
    "version": 3
   },
   "file_extension": ".py",
   "mimetype": "text/x-python",
   "name": "python",
   "nbconvert_exporter": "python",
   "pygments_lexer": "ipython3",
   "version": "3.11.9"
  }
 },
 "nbformat": 4,
 "nbformat_minor": 5
}
