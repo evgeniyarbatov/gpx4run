{
 "cells": [
  {
   "cell_type": "code",
   "execution_count": 109,
   "id": "d5aca8bc",
   "metadata": {},
   "outputs": [],
   "source": [
    "import requests\n",
    "import psycopg2\n",
    "import polyline\n",
    "import gpxpy\n",
    "import json\n",
    "\n",
    "import pandas as pd\n",
    "import matplotlib.pyplot as plt\n",
    "import contextily as ctx"
   ]
  },
  {
   "cell_type": "code",
   "execution_count": 110,
   "id": "53e997d9",
   "metadata": {},
   "outputs": [],
   "source": [
    "OUTPUT_DIR = '../routes'"
   ]
  },
  {
   "cell_type": "code",
   "execution_count": 111,
   "id": "8bb9e3e1",
   "metadata": {},
   "outputs": [],
   "source": [
    "conn = psycopg2.connect(\n",
    "    host=\"localhost\",\n",
    "    database=\"gpx\",\n",
    "    user=\"root\",\n",
    "    password=\"root\"\n",
    ")"
   ]
  },
  {
   "cell_type": "code",
   "execution_count": 112,
   "id": "2c120b14",
   "metadata": {},
   "outputs": [],
   "source": [
    "def get_route(points):\n",
    "    params = {\n",
    "        'geometries': 'polyline6',\n",
    "    }\n",
    "    response = requests.get(f\"http://127.0.0.1:6000/route/v1/all/{points}\", params=params)\n",
    "    print(response.json())\n",
    "    response.raise_for_status()\n",
    "    route = response.json()\n",
    "    return route['routes'][0]['geometry']"
   ]
  },
  {
   "cell_type": "code",
   "execution_count": 113,
   "id": "84445813",
   "metadata": {},
   "outputs": [],
   "source": [
    "def get_nearest(point):\n",
    "    response = requests.get(f\"http://127.0.0.1:6000/nearest/v1/foot/{point}\")\n",
    "    response.raise_for_status()\n",
    "    waypoints = response.json()\n",
    "    location = waypoints['waypoints'][0]['location']\n",
    "    return f\"{location[0]},{location[1]}\""
   ]
  },
  {
   "cell_type": "code",
   "execution_count": 114,
   "id": "089c326c",
   "metadata": {},
   "outputs": [],
   "source": [
    "def plot_gpx(gpx_df, filename):\n",
    "    plt.figure(figsize=(15, 8))\n",
    "    plt.plot(gpx_df['longitude'], gpx_df['latitude'], color='red', label='Route')\n",
    "    ctx.add_basemap(plt.gca(), crs='EPSG:4326', source=ctx.providers.OpenStreetMap.Mapnik)\n",
    "    plt.legend()\n",
    "    plt.xticks([], [])\n",
    "    plt.yticks([], [])\n",
    "    plt.tick_params(axis='both', which='both', bottom=False, top=False, left=False, right=False)\n",
    "    plt.savefig(f\"{OUTPUT_DIR}/{filename}.png\")"
   ]
  },
  {
   "cell_type": "code",
   "execution_count": 115,
   "id": "6dcb3c4e",
   "metadata": {},
   "outputs": [
    {
     "data": {
      "text/html": [
       "<div>\n",
       "<style scoped>\n",
       "    .dataframe tbody tr th:only-of-type {\n",
       "        vertical-align: middle;\n",
       "    }\n",
       "\n",
       "    .dataframe tbody tr th {\n",
       "        vertical-align: top;\n",
       "    }\n",
       "\n",
       "    .dataframe thead th {\n",
       "        text-align: right;\n",
       "    }\n",
       "</style>\n",
       "<table border=\"1\" class=\"dataframe\">\n",
       "  <thead>\n",
       "    <tr style=\"text-align: right;\">\n",
       "      <th></th>\n",
       "      <th>destination</th>\n",
       "      <th>start_lat</th>\n",
       "      <th>start_lon</th>\n",
       "      <th>stop_lat</th>\n",
       "      <th>stop_lon</th>\n",
       "    </tr>\n",
       "  </thead>\n",
       "  <tbody>\n",
       "    <tr>\n",
       "      <th>0</th>\n",
       "      <td>Merlion</td>\n",
       "      <td>1.3096438</td>\n",
       "      <td>103.8966102</td>\n",
       "      <td>1.2869149</td>\n",
       "      <td>103.8547688</td>\n",
       "    </tr>\n",
       "    <tr>\n",
       "      <th>1</th>\n",
       "      <td>Marina Bay Financial Center</td>\n",
       "      <td>1.3096438</td>\n",
       "      <td>103.8966102</td>\n",
       "      <td>1.2821578</td>\n",
       "      <td>103.854498</td>\n",
       "    </tr>\n",
       "    <tr>\n",
       "      <th>2</th>\n",
       "      <td>Meadow</td>\n",
       "      <td>1.3096438</td>\n",
       "      <td>103.8966102</td>\n",
       "      <td>1.2795255</td>\n",
       "      <td>103.8622062</td>\n",
       "    </tr>\n",
       "  </tbody>\n",
       "</table>\n",
       "</div>"
      ],
      "text/plain": [
       "                   destination  start_lat    start_lon   stop_lat     stop_lon\n",
       "0                      Merlion  1.3096438  103.8966102  1.2869149  103.8547688\n",
       "1  Marina Bay Financial Center  1.3096438  103.8966102  1.2821578   103.854498\n",
       "2                       Meadow  1.3096438  103.8966102  1.2795255  103.8622062"
      ]
     },
     "execution_count": 115,
     "metadata": {},
     "output_type": "execute_result"
    }
   ],
   "source": [
    "query = \"\"\"\n",
    "SELECT\n",
    "    b.name AS destination,\n",
    "    a.latitude AS start_lat,\n",
    "    a.longitude AS start_lon, \n",
    "    b.latitude AS stop_lat,\n",
    "    b.longitude AS stop_lon\n",
    "FROM start a\n",
    "CROSS JOIN destinations b\n",
    "\"\"\"\n",
    "\n",
    "with conn.cursor() as cur:\n",
    "    cur.execute(query)\n",
    "    rows = cur.fetchall()\n",
    "\n",
    "df = pd.DataFrame(rows, columns=[\n",
    "    \"destination\",\n",
    "    \"start_lat\", \n",
    "    \"start_lon\", \n",
    "    \"stop_lat\",\n",
    "    \"stop_lon\",\n",
    "])\n",
    "\n",
    "df.head(3)"
   ]
  },
  {
   "cell_type": "code",
   "execution_count": 116,
   "id": "706c9d09",
   "metadata": {},
   "outputs": [
    {
     "name": "stdout",
     "output_type": "stream",
     "text": [
      "103.89661,1.30963;103.854589,1.286915\n",
      "{'message': 'Impossible route between points', 'code': 'NoRoute'}\n",
      "103.89661,1.30963;103.854498,1.282148\n",
      "{'message': 'Impossible route between points', 'code': 'NoRoute'}\n",
      "103.89661,1.30963;103.861956,1.279454\n",
      "{'message': 'Impossible route between points', 'code': 'NoRoute'}\n",
      "103.89661,1.30963;103.847621,1.291848\n",
      "{'message': 'Impossible route between points', 'code': 'NoRoute'}\n",
      "103.89661,1.30963;103.870546,1.280678\n",
      "{'message': 'Impossible route between points', 'code': 'NoRoute'}\n",
      "103.89661,1.30963;103.861596,1.286978\n",
      "{'message': 'Impossible route between points', 'code': 'NoRoute'}\n",
      "103.89661,1.30963;103.899685,1.296921\n",
      "{'message': 'Impossible route between points', 'code': 'NoRoute'}\n",
      "103.89661,1.30963;103.870873,1.316492\n",
      "{'message': 'Impossible route between points', 'code': 'NoRoute'}\n",
      "103.89661,1.30963;103.859081,1.269395\n",
      "{'message': 'Impossible route between points', 'code': 'NoRoute'}\n"
     ]
    }
   ],
   "source": [
    "for index, row in df.iterrows():    \n",
    "    start_location = get_nearest(f\"{row['start_lon']},{row['start_lat']}\")\n",
    "    end_location = get_nearest(f\"{row['stop_lon']},{row['stop_lat']}\")\n",
    "    \n",
    "    points=f\"{start_location};{end_location}\"\n",
    "    print(points)\n",
    "    \n",
    "    try:\n",
    "        geometry = get_route(points)\n",
    "        coordinates = polyline.decode(geometry, 6)\n",
    "    except:\n",
    "        continue\n",
    "\n",
    "#     gpx_df = pd.DataFrame(coordinates, columns=['latitude', 'longitude'])\n",
    "#     plot_gpx(gpx_df, row['destination'])\n",
    "\n",
    "#     distance = round(row['distance_to_destination'] / 1000.0)\n",
    "#     filename = f\"{row['destination']} ({distance}km)\"\n",
    "#     create_gpx(coordinates, filename)"
   ]
  },
  {
   "cell_type": "code",
   "execution_count": null,
   "id": "56d4b106",
   "metadata": {},
   "outputs": [],
   "source": []
  },
  {
   "cell_type": "code",
   "execution_count": null,
   "id": "7dae7ddb",
   "metadata": {},
   "outputs": [],
   "source": []
  }
 ],
 "metadata": {
  "kernelspec": {
   "display_name": "Python 3 (ipykernel)",
   "language": "python",
   "name": "python3"
  },
  "language_info": {
   "codemirror_mode": {
    "name": "ipython",
    "version": 3
   },
   "file_extension": ".py",
   "mimetype": "text/x-python",
   "name": "python",
   "nbconvert_exporter": "python",
   "pygments_lexer": "ipython3",
   "version": "3.11.9"
  }
 },
 "nbformat": 4,
 "nbformat_minor": 5
}
